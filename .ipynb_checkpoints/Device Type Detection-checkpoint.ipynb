{
 "cells": [
  {
   "cell_type": "code",
   "execution_count": 1,
   "id": "6c661ff4-6926-43c2-b81e-5caa4d950955",
   "metadata": {},
   "outputs": [
    {
     "name": "stdout",
     "output_type": "stream",
     "text": [
      "Trying to connect to the vendor of device:  10.1.100.198\n",
      "Detected the vendor of device: 10.1.100.198\n",
      "vendor: huawei\n",
      "Time taken: 57.28953313827515 seconds\n"
     ]
    }
   ],
   "source": [
    "import time           \n",
    "from netmiko.ssh_autodetect import SSHDetect  \n",
    "\n",
    "netmikologin = {\n",
    "    'device_type': 'autodetect',  # autodetect vendor\n",
    "    'host': '10.1.100.198',       # IP address\n",
    "    'username': 'admin',      # username\n",
    "    'password': 'Passw0rd1',      # password\n",
    "    'conn_timeout': 40,           # timeout\n",
    "    'global_delay_factor': 20      # delay factor\n",
    "}\n",
    "\n",
    "start = time.time()\n",
    "print(f\"Trying to connect to the vendor of device:  {netmikologin['host']}\")\n",
    "\n",
    "# Using in-built netmiko SSHDetect and autodetect() \n",
    "detect = SSHDetect(**netmikologin) \n",
    "vendor = detect.autodetect()\n",
    "print(f\"Detected the vendor of device: {netmikologin['host']}\")\n",
    "print(f'vendor: {vendor}')\n",
    "end = time.time()\n",
    "duration = end - start\n",
    "print(f'Time taken: {duration} seconds')\n"
   ]
  },
  {
   "cell_type": "code",
   "execution_count": 2,
   "id": "f139d52b",
   "metadata": {},
   "outputs": [
    {
     "name": "stdout",
     "output_type": "stream",
     "text": [
      "Trying to connect to the vendor of device:  10.1.100.197\n",
      "Detected the vendor of device: 10.1.100.197\n",
      "vendor: arista_eos\n",
      "Time taken: 32.98210000991821 seconds\n"
     ]
    }
   ],
   "source": [
    "import time           \n",
    "from netmiko.ssh_autodetect import SSHDetect  \n",
    "\n",
    "netmikologin = {\n",
    "    'device_type': 'autodetect',\n",
    "    'host': '10.1.100.197',       \n",
    "    'username': 'admin',      \n",
    "    'password': 'Passw0rd1',      \n",
    "    'conn_timeout': 40,           \n",
    "    'global_delay_factor': 20}      \n",
    "\n",
    "start = time.time()\n",
    "print(f\"Trying to connect to the vendor of device:  {netmikologin['host']}\")\n",
    "\n",
    "\n",
    "# Using in-built netmiko SSHDetect and autodetect() \n",
    "detect = SSHDetect(**netmikologin) \n",
    "vendor = detect.autodetect()\n",
    "print(f\"Detected the vendor of device: {netmikologin['host']}\")\n",
    "print(f'vendor: {vendor}')\n",
    "end = time.time()\n",
    "duration = end - start\n",
    "print(f'Time taken: {duration} seconds')\n"
   ]
  },
  {
   "cell_type": "code",
   "execution_count": 3,
   "id": "bdc41c58",
   "metadata": {},
   "outputs": [
    {
     "name": "stdout",
     "output_type": "stream",
     "text": [
      "Trying to connect to the vendor of device:  10.1.100.196\n",
      "Detected the vendor of device: 10.1.100.196\n",
      "vendor: cisco_ios\n",
      "Time taken: 33.35275149345398 seconds\n"
     ]
    }
   ],
   "source": [
    "import time           \n",
    "from netmiko.ssh_autodetect import SSHDetect  \n",
    "\n",
    "netmikologin = {\n",
    "    'device_type': 'autodetect',\n",
    "    'host': '10.1.100.196',       \n",
    "    'username': 'admin',      \n",
    "    'password': 'Passw0rd1!',      \n",
    "    'conn_timeout': 40,           \n",
    "    'global_delay_factor': 20}      \n",
    "\n",
    "start = time.time()\n",
    "print(f\"Trying to connect to the vendor of device:  {netmikologin['host']}\")\n",
    "\n",
    "# Using in-built netmiko SSHDetect and autodetect() \n",
    "detect = SSHDetect(**netmikologin) \n",
    "vendor = detect.autodetect()\n",
    "print(f\"Detected the vendor of device: {netmikologin['host']}\")\n",
    "print(f'vendor: {vendor}')\n",
    "end = time.time()\n",
    "duration = end - start\n",
    "print(f'Time taken: {duration} seconds')\n"
   ]
  },
  {
   "cell_type": "code",
   "execution_count": 4,
   "id": "b9d20f75",
   "metadata": {},
   "outputs": [
    {
     "name": "stdout",
     "output_type": "stream",
     "text": [
      "Trying to connect to the vendor of device:  sandbox-iosxr-1.cisco.com\n",
      "Detected the vendor of device: sandbox-iosxr-1.cisco.com\n",
      "vendor: cisco_xr\n",
      "Time taken: 35.17868709564209 seconds\n"
     ]
    }
   ],
   "source": [
    "import time           \n",
    "from netmiko.ssh_autodetect import SSHDetect  \n",
    "\n",
    "netmikologin = {\n",
    "    'device_type': 'autodetect', \n",
    "    'host': 'sandbox-iosxr-1.cisco.com',       \n",
    "    'username': 'admin',      \n",
    "    'password': 'C1sco12345',      \n",
    "    'conn_timeout': 40,           \n",
    "    'global_delay_factor': 20   \n",
    "}\n",
    "\n",
    "start = time.time()\n",
    "print(f\"Trying to connect to the vendor of device:  {netmikologin['host']}\")\n",
    "\n",
    "# Using in-built netmiko SSHDetect and autodetect() \n",
    "detect = SSHDetect(**netmikologin) \n",
    "vendor = detect.autodetect()\n",
    "print(f\"Detected the vendor of device: {netmikologin['host']}\")\n",
    "print(f'vendor: {vendor}')\n",
    "end = time.time()\n",
    "duration = end - start\n",
    "print(f'Time taken: {duration} seconds')"
   ]
  },
  {
   "cell_type": "code",
   "execution_count": 5,
   "id": "bd2bfdbf",
   "metadata": {},
   "outputs": [
    {
     "name": "stdout",
     "output_type": "stream",
     "text": [
      "Trying to connect to the vendor of device:  devnetsandboxiosxe.cisco.com\n",
      "Detected the vendor of device: devnetsandboxiosxe.cisco.com\n",
      "vendor: cisco_xe\n",
      "Time taken: 35.30476236343384 seconds\n"
     ]
    }
   ],
   "source": [
    "import time           \n",
    "from netmiko.ssh_autodetect import SSHDetect  \n",
    "\n",
    "netmikologin = {\n",
    "    'device_type': 'autodetect', \n",
    "    'host': 'devnetsandboxiosxe.cisco.com',       \n",
    "    'username': 'admin',      \n",
    "    'password': 'C1sco12345',      \n",
    "    'conn_timeout': 40,           \n",
    "    'global_delay_factor': 20   \n",
    "}\n",
    "\n",
    "start = time.time()\n",
    "print(f\"Trying to connect to the vendor of device:  {netmikologin['host']}\")\n",
    "\n",
    "# Using in-built netmiko SSHDetect and autodetect() \n",
    "detect = SSHDetect(**netmikologin) \n",
    "vendor = detect.autodetect()\n",
    "print(f\"Detected the vendor of device: {netmikologin['host']}\")\n",
    "print(f'vendor: {vendor}')\n",
    "end = time.time()\n",
    "duration = end - start\n",
    "print(f'Time taken: {duration} seconds')"
   ]
  },
  {
   "cell_type": "code",
   "execution_count": 6,
   "id": "5eb9997d",
   "metadata": {},
   "outputs": [
    {
     "name": "stdout",
     "output_type": "stream",
     "text": [
      "Trying to connect to the vendor of device:  sandbox-nxos-1.cisco.com\n",
      "Detected the vendor of device: sandbox-nxos-1.cisco.com\n",
      "vendor: cisco_nxos\n",
      "Time taken: 41.4773108959198 seconds\n"
     ]
    }
   ],
   "source": [
    "import time           \n",
    "from netmiko.ssh_autodetect import SSHDetect  \n",
    "\n",
    "netmikologin = {\n",
    "    'device_type': 'autodetect', \n",
    "    'host': 'sandbox-nxos-1.cisco.com',       \n",
    "    'username': 'admin',      \n",
    "    'password': 'Admin_1234!',      \n",
    "    'conn_timeout': 40,           \n",
    "    'global_delay_factor': 20   \n",
    "}\n",
    "\n",
    "start = time.time()\n",
    "print(f\"Trying to connect to the vendor of device:  {netmikologin['host']}\")\n",
    "\n",
    "# Using in-built netmiko SSHDetect and autodetect() \n",
    "detect = SSHDetect(**netmikologin) \n",
    "vendor = detect.autodetect()\n",
    "print(f\"Detected the vendor of device: {netmikologin['host']}\")\n",
    "print(f'vendor: {vendor}')\n",
    "end = time.time()\n",
    "duration = end - start\n",
    "print(f'Time taken: {duration} seconds')"
   ]
  },
  {
   "cell_type": "code",
   "execution_count": null,
   "id": "062051fa",
   "metadata": {},
   "outputs": [],
   "source": [
    "vendors=['alcatel_aos',\n",
    " 'alcatel_sros',\n",
    " 'apresia_aeos',\n",
    " 'arista_eos',\n",
    " 'arris_cer',\n",
    " 'casa_cmts',\n",
    " 'ciena_saos',\n",
    " 'cisco_asa',\n",
    " 'cisco_ios',\n",
    " 'cisco_xe',\n",
    " 'cisco_nxos',\n",
    " 'cisco_xr',\n",
    " 'cisco_xr_2',\n",
    " 'dell_force10',\n",
    " 'dell_os9',\n",
    " 'dell_os10',\n",
    " 'dell_powerconnect',\n",
    " 'f5_tmsh',\n",
    " 'f5_linux',\n",
    " 'hp_comware',\n",
    " 'hp_procurve',\n",
    " 'huawei',\n",
    " 'juniper_junos',\n",
    " 'linux',\n",
    " 'ericsson_ipos',\n",
    " 'extreme_exos',\n",
    " 'extreme_netiron',\n",
    " 'extreme_slx',\n",
    " 'extreme_tierra',\n",
    " 'ubiquiti_edgeswitch',\n",
    " 'cisco_wlc',\n",
    " 'cisco_wlc_85',\n",
    " 'mellanox_mlnxos',\n",
    " 'yamaha',\n",
    " 'fortinet',\n",
    " 'paloalto_panos',\n",
    " 'supermicro_smis',\n",
    " 'flexvnf',\n",
    " 'cisco_viptela',\n",
    " 'oneaccess_oneos']"
   ]
  },
  {
   "cell_type": "code",
   "execution_count": null,
   "id": "c72cadcc",
   "metadata": {},
   "outputs": [],
   "source": []
  },
  {
   "cell_type": "code",
   "execution_count": null,
   "id": "bb31023f",
   "metadata": {},
   "outputs": [],
   "source": []
  },
  {
   "cell_type": "code",
   "execution_count": null,
   "id": "5cbfd8e2",
   "metadata": {},
   "outputs": [],
   "source": []
  },
  {
   "cell_type": "code",
   "execution_count": null,
   "id": "4d885dcb",
   "metadata": {},
   "outputs": [],
   "source": []
  },
  {
   "cell_type": "code",
   "execution_count": null,
   "id": "344eb8cf",
   "metadata": {},
   "outputs": [],
   "source": []
  },
  {
   "cell_type": "code",
   "execution_count": null,
   "id": "14d88155",
   "metadata": {},
   "outputs": [],
   "source": []
  },
  {
   "cell_type": "code",
   "execution_count": null,
   "id": "6d3a73f9",
   "metadata": {},
   "outputs": [],
   "source": []
  },
  {
   "cell_type": "code",
   "execution_count": null,
   "id": "6733b481",
   "metadata": {},
   "outputs": [],
   "source": []
  },
  {
   "cell_type": "code",
   "execution_count": null,
   "id": "063af23f",
   "metadata": {},
   "outputs": [],
   "source": []
  },
  {
   "cell_type": "code",
   "execution_count": null,
   "id": "c0ec5166",
   "metadata": {},
   "outputs": [],
   "source": []
  },
  {
   "cell_type": "code",
   "execution_count": null,
   "id": "b51fd907",
   "metadata": {},
   "outputs": [],
   "source": []
  },
  {
   "cell_type": "code",
   "execution_count": null,
   "id": "99a3fa43",
   "metadata": {},
   "outputs": [],
   "source": []
  },
  {
   "cell_type": "code",
   "execution_count": null,
   "id": "3a61e00b",
   "metadata": {},
   "outputs": [],
   "source": []
  },
  {
   "cell_type": "code",
   "execution_count": null,
   "id": "ec3bea41",
   "metadata": {},
   "outputs": [],
   "source": []
  },
  {
   "cell_type": "code",
   "execution_count": null,
   "id": "db81022c",
   "metadata": {},
   "outputs": [],
   "source": []
  }
 ],
 "metadata": {
  "kernelspec": {
   "display_name": "Python 3 (ipykernel)",
   "language": "python",
   "name": "python3"
  },
  "language_info": {
   "codemirror_mode": {
    "name": "ipython",
    "version": 3
   },
   "file_extension": ".py",
   "mimetype": "text/x-python",
   "name": "python",
   "nbconvert_exporter": "python",
   "pygments_lexer": "ipython3",
   "version": "3.8.8"
  }
 },
 "nbformat": 4,
 "nbformat_minor": 5
}
